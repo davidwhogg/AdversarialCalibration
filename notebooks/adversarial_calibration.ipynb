{
 "cells": [
  {
   "cell_type": "markdown",
   "id": "243e1daf-dc59-4e79-93ee-cb93ef5d9452",
   "metadata": {},
   "source": [
    "# AdversarialCalibration\n",
    "An attempt to make concrete issues with which the author is obsessed.\n",
    "\n",
    "## Author\n",
    "- **David W. Hogg** (NYU)"
   ]
  },
  {
   "cell_type": "code",
   "execution_count": null,
   "id": "3779ab4f-f560-40ce-9ca2-ce17af3f5d64",
   "metadata": {},
   "outputs": [],
   "source": [
    "import numpy as np\n",
    "import pylab as plt"
   ]
  },
  {
   "cell_type": "code",
   "execution_count": null,
   "id": "2bf5c78f-9547-4b62-84b1-4f71ab04cf9e",
   "metadata": {},
   "outputs": [],
   "source": [
    "def gaussian_1d(xs, mean, sigma):\n",
    "    return np.exp(-0.5 * (xs - mean) ** 2 / sigma ** 2) / np.sqrt(2. * np.pi * sigma ** 2)\n",
    "\n",
    "def linespread_function(xs, sigma, A2, A3):\n",
    "    norm = 1. / (1. + A2 + A3)\n",
    "    return norm * (gaussian_1d(xs, 0., sigma) +\n",
    "                   A2 * gaussian_1d(xs, sigma, 2. * sigma) +\n",
    "                   A3 * gaussian_1d(xs, -sigma, 2. * sigma))"
   ]
  },
  {
   "cell_type": "code",
   "execution_count": null,
   "id": "e90345e0-ed82-4f28-b95b-f2d8817384fd",
   "metadata": {},
   "outputs": [],
   "source": [
    "tiny = 0.001\n",
    "plotxs = np.arange(-10. + 0.5 * tiny, 10., tiny)\n",
    "for sigma, A2, A3 in [(1.0, 0.0, 0.0),\n",
    "                      (1.0, 0.1, 0.7),\n",
    "                      (1.5, 0.1, 0.7)]:\n",
    "    plt.plot(plotxs, linespread_function(plotxs, sigma, A2, A3))"
   ]
  },
  {
   "cell_type": "code",
   "execution_count": null,
   "id": "31f76242-d98f-43b5-9aa9-9c6b5706ce90",
   "metadata": {},
   "outputs": [],
   "source": []
  }
 ],
 "metadata": {
  "kernelspec": {
   "display_name": "Python 3 (ipykernel)",
   "language": "python",
   "name": "python3"
  },
  "language_info": {
   "codemirror_mode": {
    "name": "ipython",
    "version": 3
   },
   "file_extension": ".py",
   "mimetype": "text/x-python",
   "name": "python",
   "nbconvert_exporter": "python",
   "pygments_lexer": "ipython3",
   "version": "3.11.2"
  }
 },
 "nbformat": 4,
 "nbformat_minor": 5
}
