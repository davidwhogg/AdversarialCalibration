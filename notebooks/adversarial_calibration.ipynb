{
 "cells": [
  {
   "cell_type": "markdown",
   "id": "243e1daf-dc59-4e79-93ee-cb93ef5d9452",
   "metadata": {},
   "source": [
    "# CalibrationAdversary\n",
    "An attempt to make a concrete example to demonstrate the issues with which the author is obsessed.\n",
    "\n",
    "## Author\n",
    "- **David W. Hogg** (NYU)"
   ]
  },
  {
   "cell_type": "code",
   "execution_count": null,
   "id": "3779ab4f-f560-40ce-9ca2-ce17af3f5d64",
   "metadata": {},
   "outputs": [],
   "source": [
    "import numpy as np\n",
    "import pylab as plt"
   ]
  },
  {
   "cell_type": "code",
   "execution_count": null,
   "id": "2bf5c78f-9547-4b62-84b1-4f71ab04cf9e",
   "metadata": {},
   "outputs": [],
   "source": [
    "def gaussian_1d(xs, mean, sigma):\n",
    "    return np.exp(-0.5 * (xs - mean) ** 2 / sigma ** 2) / np.sqrt(2. * np.pi * sigma ** 2)\n",
    "\n",
    "def linespread_function(xs, sigma, A2, A3):\n",
    "    norm = 1. / (1. + A2 + A3)\n",
    "    return norm * (gaussian_1d(xs, 0., sigma) +\n",
    "                   A2 * gaussian_1d(xs, sigma, 2. * sigma) +\n",
    "                   A3 * gaussian_1d(xs, -sigma, 2. * sigma))"
   ]
  },
  {
   "cell_type": "code",
   "execution_count": null,
   "id": "e90345e0-ed82-4f28-b95b-f2d8817384fd",
   "metadata": {},
   "outputs": [],
   "source": [
    "tiny = 0.001\n",
    "plotxs = np.arange(-10. + 0.5 * tiny, 10., tiny)\n",
    "for sigma, A2, A3 in [(1.0, 0.0, 0.0),\n",
    "                      (1.0, 0.1, 0.7),\n",
    "                      (1.5, 0.1, 0.7)]:\n",
    "    plt.plot(plotxs, linespread_function(plotxs, sigma, A2, A3))"
   ]
  },
  {
   "cell_type": "code",
   "execution_count": null,
   "id": "31f76242-d98f-43b5-9aa9-9c6b5706ce90",
   "metadata": {},
   "outputs": [],
   "source": [
    "lfc_linelist = np.arange(10., 1000., 25. * np.pi / 3.)\n",
    "\n",
    "def lfc_spectrum(xs, sigma, A2, A3):\n",
    "    def foo(x):\n",
    "        return linespread_function(xs - x, sigma, A2, A3)\n",
    "    return sum(map(foo, lfc_linelist))"
   ]
  },
  {
   "cell_type": "code",
   "execution_count": null,
   "id": "89fef202-c823-457b-a9c5-60f0199c2b2b",
   "metadata": {},
   "outputs": [],
   "source": [
    "tiny = 1.0\n",
    "plotxs = np.arange(0. + 0.5 * tiny, 1000., tiny)\n",
    "plt.step(plotxs, lfc_spectrum(plotxs, 1.5, 0.1, 0.5))\n",
    "plt.xlim(200, 400)\n",
    "plt.axhline(0, alpha=0.25)"
   ]
  },
  {
   "cell_type": "code",
   "execution_count": null,
   "id": "fec76516-1eac-4633-a78c-e6773b1c9963",
   "metadata": {},
   "outputs": [],
   "source": [
    "rng = np.random.default_rng(17)\n",
    "star_linelist = 1000. * rng.uniform(size=1000)\n",
    "star_amplist = np.exp(rng.normal(size=1000) - 2.) ** 2\n",
    "\n",
    "def star_spectrum(xs, sigma, A2, A3):\n",
    "    def foo(A, x):\n",
    "        return A * linespread_function(xs - x, sigma, A2, A3)\n",
    "    return np.exp(0. - sum(map(foo, star_amplist, star_linelist)))"
   ]
  },
  {
   "cell_type": "code",
   "execution_count": null,
   "id": "eb84626a-74d3-46a3-bad8-0a79ed43634e",
   "metadata": {},
   "outputs": [],
   "source": [
    "plt.step(plotxs, star_spectrum(plotxs, 1.5, 0.1, 0.5))\n",
    "# plt.xlim(200, 400)\n",
    "plt.axhline(0., alpha=0.25)"
   ]
  },
  {
   "cell_type": "code",
   "execution_count": null,
   "id": "9f43562c-bbf2-4f15-ae10-c386c193ca8e",
   "metadata": {},
   "outputs": [],
   "source": []
  }
 ],
 "metadata": {
  "kernelspec": {
   "display_name": "Python 3 (ipykernel)",
   "language": "python",
   "name": "python3"
  },
  "language_info": {
   "codemirror_mode": {
    "name": "ipython",
    "version": 3
   },
   "file_extension": ".py",
   "mimetype": "text/x-python",
   "name": "python",
   "nbconvert_exporter": "python",
   "pygments_lexer": "ipython3",
   "version": "3.11.2"
  }
 },
 "nbformat": 4,
 "nbformat_minor": 5
}
